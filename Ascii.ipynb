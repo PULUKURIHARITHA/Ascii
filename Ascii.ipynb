{
 "cells": [
  {
   "cell_type": "code",
   "execution_count": 5,
   "id": "7765840b-3fd4-4d35-9e8c-8368fbb74106",
   "metadata": {},
   "outputs": [
    {
     "name": "stdin",
     "output_type": "stream",
     "text": [
      "enter the size: 8\n"
     ]
    },
    {
     "name": "stdout",
     "output_type": "stream",
     "text": [
      "A  B  C  D  E  F  G  H  \n",
      "B  C  D  E  F  G  H  I  \n",
      "A  V  W  X  Y  Z  I  J  \n",
      "Z  U  H  I  J  A  J  K  \n",
      "Y  T  G  L  K  B  K  L  \n",
      "X  S  F  E  D  C  L  M  \n",
      "W  R  Q  P  O  N  M  N  \n",
      "V  U  T  S  R  Q  P  O  \n"
     ]
    }
   ],
   "source": [
    "n=int(input(\"enter the size:\"))\n",
    "matrix=[[' ']*n for _ in range(n)]\n",
    "ch=65\n",
    "top,left=0,0\n",
    "right,bottom=n-1,n-1\n",
    "while top<=bottom and left<=right:\n",
    "    for i in range(left,right+1):\n",
    "        matrix[top][i]=chr(ch)\n",
    "        ch+=1\n",
    "        if ch>90:\n",
    "            ch=65\n",
    "    top+=1\n",
    "    for i in range(top,bottom+1):\n",
    "        matrix[i][right]=chr(ch)\n",
    "        ch+=1\n",
    "        if ch>90:\n",
    "            ch=65\n",
    "    right-=1\n",
    "    for i in range(right,left-1,-1):\n",
    "        matrix[bottom][i]=chr(ch)\n",
    "        ch+=1\n",
    "        if ch>90:\n",
    "            ch=65\n",
    "    bottom-=1\n",
    "    for i in range(bottom,top-1,-1):\n",
    "        matrix[i][left]=chr(ch)\n",
    "        ch+=1\n",
    "        if ch>90:\n",
    "            ch=65\n",
    "    left+=1\n",
    "for row in matrix :\n",
    "    for val in row:\n",
    "        print(f\"{val:2}\", end=' ')\n",
    "    print()"
   ]
  },
  {
   "cell_type": "code",
   "execution_count": null,
   "id": "0dbbf6bc-bf6f-4c3c-8e29-f97f83c5f232",
   "metadata": {},
   "outputs": [],
   "source": []
  }
 ],
 "metadata": {
  "kernelspec": {
   "display_name": "Python 3 (ipykernel)",
   "language": "python",
   "name": "python3"
  },
  "language_info": {
   "codemirror_mode": {
    "name": "ipython",
    "version": 3
   },
   "file_extension": ".py",
   "mimetype": "text/x-python",
   "name": "python",
   "nbconvert_exporter": "python",
   "pygments_lexer": "ipython3",
   "version": "3.12.7"
  }
 },
 "nbformat": 4,
 "nbformat_minor": 5
}
